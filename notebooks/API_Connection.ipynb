{
 "cells": [
  {
   "cell_type": "code",
   "execution_count": 23,
   "id": "b36287bd",
   "metadata": {},
   "outputs": [
    {
     "name": "stdout",
     "output_type": "stream",
     "text": [
      "{'Value: ': '[1528.71437654]'}\n"
     ]
    }
   ],
   "source": [
    "import requests\n",
    "\n",
    "req = requests.get('http://127.0.0.1:5000/Prediction_API/25;1;1;0;0;0;0;0;84')\n",
    "\n",
    "data = req.json()\n",
    "print(data)"
   ]
  },
  {
   "cell_type": "code",
   "execution_count": null,
   "id": "a74f4f8e",
   "metadata": {},
   "outputs": [],
   "source": []
  }
 ],
 "metadata": {
  "kernelspec": {
   "display_name": "Python 3 (ipykernel)",
   "language": "python",
   "name": "python3"
  },
  "language_info": {
   "codemirror_mode": {
    "name": "ipython",
    "version": 3
   },
   "file_extension": ".py",
   "mimetype": "text/x-python",
   "name": "python",
   "nbconvert_exporter": "python",
   "pygments_lexer": "ipython3",
   "version": "3.9.12"
  }
 },
 "nbformat": 4,
 "nbformat_minor": 5
}
